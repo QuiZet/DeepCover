{
 "cells": [
  {
   "cell_type": "code",
   "execution_count": 21,
   "metadata": {},
   "outputs": [],
   "source": [
    "import math\n",
    "import numpy as np\n",
    "import os\n",
    "import pandas as pd\n",
    "from utils import read_csv_to_df, df_to_data\n",
    "from market import Market\n",
    "import torch\n",
    "import torch.nn as nn"
   ]
  },
  {
   "cell_type": "code",
   "execution_count": 32,
   "metadata": {},
   "outputs": [],
   "source": [
    "#\"C:/Users/sari/Desktop/DeepCover/sample.csv\""
   ]
  },
  {
   "cell_type": "code",
   "execution_count": 24,
   "metadata": {},
   "outputs": [
    {
     "data": {
      "text/plain": [
       "tensor([1.1326e+06, 1.3891e+02, 1.3880e+02, 1.3896e+02])"
      ]
     },
     "execution_count": 24,
     "metadata": {},
     "output_type": "execute_result"
    }
   ],
   "source": [
    "sim_market = Market(\"C:/Users/sari/Desktop/DeepCover/sample.csv\")\n",
    "\n",
    "termination = False\n",
    "while termination == False:\n",
    "    action = sim_market.sample_action()\n",
    "    state, action, termination = sim_market.step(action)\n",
    "    #print(state,action,termination)\n",
    "    \n",
    "\n",
    "#max(sim_market.exposure)\n",
    "a = [sim_market.exposure[1],sim_market.rate[1],sim_market.sell_rate[1],sim_market.buy_rate[1]]\n",
    "a_tensor = torch.Tensor(a)\n",
    "a_tensor"
   ]
  },
  {
   "cell_type": "markdown",
   "metadata": {},
   "source": [
    "### Max value of states"
   ]
  },
  {
   "cell_type": "code",
   "execution_count": 36,
   "metadata": {},
   "outputs": [
    {
     "data": {
      "text/plain": [
       "[102929039.6, -48241848.83, 140.25, 140.225, 140.228]"
      ]
     },
     "execution_count": 36,
     "metadata": {},
     "output_type": "execute_result"
    }
   ],
   "source": [
    "file_path = \"C:/Users/sari/Desktop/DeepCover/sample.csv\"\n",
    "df = pd.read_csv(file_path)\n",
    "max_quantity = df['quantity'].max()\n",
    "min_quantity = df['quantity'].min()\n",
    "max_rate = df['rate'].max()\n",
    "max_smt_bid = df['smt_bid'].max()\n",
    "max_smt_ask = df['smt_ask'].max()\n",
    "max_values = [max_quantity,min_quantity, max_rate, max_smt_bid, max_smt_ask]\n",
    "max_values"
   ]
  },
  {
   "cell_type": "markdown",
   "metadata": {},
   "source": [
    "### Mean value of states"
   ]
  },
  {
   "cell_type": "code",
   "execution_count": 35,
   "metadata": {},
   "outputs": [
    {
     "data": {
      "text/plain": [
       "[536882.0902198581, 139.53163453900711, 139.5265645390071, 139.53555673758865]"
      ]
     },
     "execution_count": 35,
     "metadata": {},
     "output_type": "execute_result"
    }
   ],
   "source": [
    "mean_quantity = df['quantity'].mean()\n",
    "mean_rate = df['rate'].mean()\n",
    "mean_smt_bid = df['smt_bid'].mean()\n",
    "mean_smt_ask = df['smt_ask'].mean()\n",
    "mean_values = [mean_quantity, mean_rate, mean_smt_bid, mean_smt_ask]\n",
    "mean_values"
   ]
  },
  {
   "cell_type": "code",
   "execution_count": 37,
   "metadata": {},
   "outputs": [
    {
     "data": {
      "text/plain": [
       "3.25"
      ]
     },
     "execution_count": 37,
     "metadata": {},
     "output_type": "execute_result"
    }
   ],
   "source": [
    "325/100"
   ]
  },
  {
   "cell_type": "code",
   "execution_count": 15,
   "metadata": {},
   "outputs": [
    {
     "data": {
      "text/plain": [
       "490518.0"
      ]
     },
     "execution_count": 15,
     "metadata": {},
     "output_type": "execute_result"
    }
   ],
   "source": [
    "from env.utils import *\n",
    "filepath = 'C:/Users/sari/Desktop/DeepCover/sample_1.csv'\n",
    "df = read_csv_to_df(filepath)\n",
    "data = df_to_data(df)\n",
    "exposure = list(data[0])\n",
    "exposure[0]"
   ]
  },
  {
   "cell_type": "code",
   "execution_count": 16,
   "metadata": {},
   "outputs": [
    {
     "data": {
      "text/plain": [
       "1410"
      ]
     },
     "execution_count": 16,
     "metadata": {},
     "output_type": "execute_result"
    }
   ],
   "source": [
    "episode_length = len(data[0]-1)\n",
    "episode_length"
   ]
  },
  {
   "cell_type": "code",
   "execution_count": 1,
   "metadata": {},
   "outputs": [
    {
     "name": "stdout",
     "output_type": "stream",
     "text": [
      "torch.float32\n"
     ]
    },
    {
     "data": {
      "text/plain": [
       "tensor([0.2273])"
      ]
     },
     "execution_count": 1,
     "metadata": {},
     "output_type": "execute_result"
    }
   ],
   "source": [
    "import torch\n",
    "from  models.A2C import A2C\n",
    "x = 3\n",
    "x = torch.Tensor([x])\n",
    "x\n",
    "\n",
    "s1 = [2300807,140.0523,140.051,140.058]\n",
    "s1 = torch.Tensor(s1)\n",
    "a1 = [0.0002 * 100000000]\n",
    "a1 = torch.Tensor(a1)\n",
    "\n",
    "critic = A2C.Critic(4,1)\n",
    "y_predicted = torch.Tensor([critic.forward(s1, a1)])\n",
    "print(y_predicted.dtype)\n",
    "y_predicted"
   ]
  },
  {
   "cell_type": "code",
   "execution_count": 2,
   "metadata": {},
   "outputs": [
    {
     "data": {
      "text/plain": [
       "torch.float32"
      ]
     },
     "execution_count": 2,
     "metadata": {},
     "output_type": "execute_result"
    }
   ],
   "source": [
    "a = [1139.531634539]\n",
    "a = torch.Tensor(a).clone().detach()\n",
    "a.dtype "
   ]
  },
  {
   "cell_type": "code",
   "execution_count": 27,
   "metadata": {},
   "outputs": [
    {
     "name": "stdout",
     "output_type": "stream",
     "text": [
      "action:[0.9121203] bounded:[9121.203]\n",
      "action_dtype:float32 bounded_action_dtype:float32\n"
     ]
    }
   ],
   "source": [
    "from models.A2C.train import *\n",
    "c = Trainer(4,1,100000000, 0.001)\n",
    "action = c.get_exploitation_action(s1)\n",
    "bounded_action = action*10000\n",
    "print(f'action:{action}', f'bounded:{bounded_action}')\n",
    "print(f'action_dtype:{action.dtype}', f'bounded_action_dtype:{bounded_action.dtype}')"
   ]
  },
  {
   "cell_type": "markdown",
   "metadata": {},
   "source": [
    "### Convert double tensor to float tensor"
   ]
  },
  {
   "cell_type": "code",
   "execution_count": 21,
   "metadata": {},
   "outputs": [
    {
     "name": "stdout",
     "output_type": "stream",
     "text": [
      "double version of x: tensor([[-1.,  0., -1.],\n",
      "        [-1., -1.,  0.],\n",
      "        [-1., -1., -1.]], dtype=torch.float64)\n",
      "float version of x :(tensor([[-1.,  0., -1.],\n",
      "        [-1., -1.,  0.],\n",
      "        [-1., -1., -1.]]), torch.float32)\n"
     ]
    },
    {
     "name": "stderr",
     "output_type": "stream",
     "text": [
      "C:\\Users\\sari\\AppData\\Local\\Temp\\ipykernel_4352\\3471990342.py:3: UserWarning: To copy construct from a tensor, it is recommended to use sourceTensor.clone().detach() or sourceTensor.clone().detach().requires_grad_(True), rather than torch.tensor(sourceTensor).\n",
      "  x = torch.tensor(x, dtype=torch.float32)\n"
     ]
    }
   ],
   "source": [
    "x = torch.randint(-1, 1,(3,3), dtype=torch.double)\n",
    "print(f'double version of x: {x}')\n",
    "x = torch.tensor(x, dtype=torch.float32)\n",
    "print(f'float version of x :{x, x.dtype}')"
   ]
  },
  {
   "cell_type": "code",
   "execution_count": 36,
   "metadata": {},
   "outputs": [
    {
     "data": {
      "text/plain": [
       "torch.Size([])"
      ]
     },
     "execution_count": 36,
     "metadata": {},
     "output_type": "execute_result"
    }
   ],
   "source": [
    "x = torch.randint(-1, 1,(1,1), dtype=torch.float)\n",
    "x = x.squeeze()\n",
    "x.size()"
   ]
  },
  {
   "cell_type": "code",
   "execution_count": 37,
   "metadata": {},
   "outputs": [
    {
     "data": {
      "text/plain": [
       "(torch.Size([1]), torch.Size([]))"
      ]
     },
     "execution_count": 37,
     "metadata": {},
     "output_type": "execute_result"
    }
   ],
   "source": [
    "torch.Size([1]), torch.Size([])"
   ]
  },
  {
   "cell_type": "code",
   "execution_count": null,
   "metadata": {},
   "outputs": [],
   "source": [
    "torch.Size([[1]]), torch.Size([1])\n",
    "[1,1] [1]"
   ]
  },
  {
   "cell_type": "code",
   "execution_count": 24,
   "metadata": {},
   "outputs": [
    {
     "ename": "ImportError",
     "evalue": "cannot import name 'env_name' from 'pettingzoo.mpe'",
     "output_type": "error",
     "traceback": [
      "\u001b[1;31m---------------------------------------------------------------------------\u001b[0m",
      "\u001b[1;31mImportError\u001b[0m                               Traceback (most recent call last)",
      "Cell \u001b[1;32mIn[24], line 4\u001b[0m\n\u001b[0;32m      2\u001b[0m env_name \u001b[39m=\u001b[39m \u001b[39m'\u001b[39m\u001b[39msimple_tag_v3\u001b[39m\u001b[39m'\u001b[39m\n\u001b[0;32m      3\u001b[0m _tmep \u001b[39m=\u001b[39m importlib\u001b[39m.\u001b[39mimport_module(\u001b[39m'\u001b[39m\u001b[39mpettingzoo.mpe\u001b[39m\u001b[39m'\u001b[39m)\n\u001b[1;32m----> 4\u001b[0m var \u001b[39m=\u001b[39m _tmep\u001b[39m.\u001b[39;49menv_name\n\u001b[0;32m      5\u001b[0m env \u001b[39m=\u001b[39m var\n\u001b[0;32m      6\u001b[0m env\u001b[39m.\u001b[39mreset()\n",
      "File \u001b[1;32mc:\\Users\\sari\\AppData\\Local\\anaconda3\\lib\\site-packages\\pettingzoo\\mpe\\__init__.py:5\u001b[0m, in \u001b[0;36m__getattr__\u001b[1;34m(env_name)\u001b[0m\n\u001b[0;32m      4\u001b[0m \u001b[39mdef\u001b[39;00m \u001b[39m__getattr__\u001b[39m(env_name):\n\u001b[1;32m----> 5\u001b[0m     \u001b[39mreturn\u001b[39;00m deprecated_handler(env_name, __path__, \u001b[39m__name__\u001b[39;49m)\n",
      "File \u001b[1;32mc:\\Users\\sari\\AppData\\Local\\anaconda3\\lib\\site-packages\\pettingzoo\\utils\\deprecated_module.py:40\u001b[0m, in \u001b[0;36mdeprecated_handler\u001b[1;34m(env_name, module_path, module_name)\u001b[0m\n\u001b[0;32m     36\u001b[0m \u001b[39mif\u001b[39;00m spec \u001b[39mis\u001b[39;00m \u001b[39mNone\u001b[39;00m:\n\u001b[0;32m     37\u001b[0m     \u001b[39m# It wasn't able to find this module\u001b[39;00m\n\u001b[0;32m     38\u001b[0m     \u001b[39m# You should do your deprecation notice here.\u001b[39;00m\n\u001b[0;32m     39\u001b[0m     \u001b[39mif\u001b[39;00m \u001b[39mnot\u001b[39;00m is_env(env_name):\n\u001b[1;32m---> 40\u001b[0m         \u001b[39mraise\u001b[39;00m \u001b[39mImportError\u001b[39;00m(\u001b[39mf\u001b[39m\u001b[39m\"\u001b[39m\u001b[39mcannot import name \u001b[39m\u001b[39m'\u001b[39m\u001b[39m{\u001b[39;00menv_name\u001b[39m}\u001b[39;00m\u001b[39m'\u001b[39m\u001b[39m from \u001b[39m\u001b[39m'\u001b[39m\u001b[39m{\u001b[39;00mmodule_name\u001b[39m}\u001b[39;00m\u001b[39m'\u001b[39m\u001b[39m\"\u001b[39m)\n\u001b[0;32m     41\u001b[0m     name, version \u001b[39m=\u001b[39m env_name\u001b[39m.\u001b[39mrsplit(\u001b[39m\"\u001b[39m\u001b[39m_v\u001b[39m\u001b[39m\"\u001b[39m)\n\u001b[0;32m     43\u001b[0m     \u001b[39mfor\u001b[39;00m loader, alt_env_name, is_pkg \u001b[39min\u001b[39;00m pkgutil\u001b[39m.\u001b[39miter_modules(module_path):\n",
      "\u001b[1;31mImportError\u001b[0m: cannot import name 'env_name' from 'pettingzoo.mpe'"
     ]
    }
   ],
   "source": [
    "import importlib\n",
    "env_name = 'simple_tag_v3'\n",
    "_tmep = importlib.import_module('pettingzoo.mpe')\n",
    "var = _tmep.env_name\n",
    "env = var\n",
    "env.reset()"
   ]
  },
  {
   "cell_type": "code",
   "execution_count": 26,
   "metadata": {},
   "outputs": [
    {
     "data": {
      "text/plain": [
       "'RL test simon'"
      ]
     },
     "execution_count": 26,
     "metadata": {},
     "output_type": "execute_result"
    }
   ],
   "source": [
    "arg = 'simon'\n",
    "string = f'RL test {arg}'\n",
    "string"
   ]
  },
  {
   "cell_type": "code",
   "execution_count": 37,
   "metadata": {},
   "outputs": [
    {
     "ename": "AttributeError",
     "evalue": "module 'pettingzoo.mpe.simple_tag_v3' has no attribute 'make'",
     "output_type": "error",
     "traceback": [
      "\u001b[1;31m---------------------------------------------------------------------------\u001b[0m",
      "\u001b[1;31mAttributeError\u001b[0m                            Traceback (most recent call last)",
      "Cell \u001b[1;32mIn[37], line 7\u001b[0m\n\u001b[0;32m      4\u001b[0m     env_instance \u001b[39m=\u001b[39m env_class\u001b[39m.\u001b[39mmake()\n\u001b[0;32m      5\u001b[0m     \u001b[39mreturn\u001b[39;00m env_instance\n\u001b[1;32m----> 7\u001b[0m env \u001b[39m=\u001b[39m call_env(framework\u001b[39m=\u001b[39;49m\u001b[39m'\u001b[39;49m\u001b[39mpettingzoo.mpe\u001b[39;49m\u001b[39m'\u001b[39;49m, env\u001b[39m=\u001b[39;49m\u001b[39m'\u001b[39;49m\u001b[39msimple_tag_v3\u001b[39;49m\u001b[39m'\u001b[39;49m)\n\u001b[0;32m      8\u001b[0m env\u001b[39m.\u001b[39mreset()\n",
      "Cell \u001b[1;32mIn[37], line 4\u001b[0m, in \u001b[0;36mcall_env\u001b[1;34m(framework, env)\u001b[0m\n\u001b[0;32m      2\u001b[0m env_module \u001b[39m=\u001b[39m importlib\u001b[39m.\u001b[39mimport_module(framework)\n\u001b[0;32m      3\u001b[0m env_class \u001b[39m=\u001b[39m \u001b[39mgetattr\u001b[39m(env_module, env)\n\u001b[1;32m----> 4\u001b[0m env_instance \u001b[39m=\u001b[39m env_class\u001b[39m.\u001b[39;49mmake()\n\u001b[0;32m      5\u001b[0m \u001b[39mreturn\u001b[39;00m env_instance\n",
      "\u001b[1;31mAttributeError\u001b[0m: module 'pettingzoo.mpe.simple_tag_v3' has no attribute 'make'"
     ]
    }
   ],
   "source": [
    "def call_env(framework='pettingzoo.mpe', env='simple_tag_v3'):\n",
    "    env_module = importlib.import_module(framework)\n",
    "    env_class = getattr(env_module, env)\n",
    "    env_instance = env_class.make()\n",
    "    return env_instance\n",
    "\n",
    "env = call_env(framework='pettingzoo.mpe', env='simple_tag_v3')\n",
    "env.reset()\n"
   ]
  },
  {
   "cell_type": "code",
   "execution_count": 44,
   "metadata": {},
   "outputs": [
    {
     "name": "stdout",
     "output_type": "stream",
     "text": [
      "output:tensor([-0.1634], grad_fn=<AddBackward0>), tanh_output:tensor([-0.1620], grad_fn=<TanhBackward0>)\n"
     ]
    }
   ],
   "source": [
    "import torch\n",
    "import torch.nn as nn\n",
    "import torch.nn.functional as F\n",
    "from torch.autograd import Variable\n",
    "\n",
    "\n",
    "\n",
    "input = torch.rand(16)\n",
    "m = nn.Linear(16,1)\n",
    "output = m(input)\n",
    "tanh_output = F.tanh(output)\n",
    "print(f'output:{output}, tanh_output:{tanh_output}')"
   ]
  },
  {
   "cell_type": "code",
   "execution_count": null,
   "metadata": {},
   "outputs": [],
   "source": []
  }
 ],
 "metadata": {
  "kernelspec": {
   "display_name": "base",
   "language": "python",
   "name": "python3"
  },
  "language_info": {
   "codemirror_mode": {
    "name": "ipython",
    "version": 3
   },
   "file_extension": ".py",
   "mimetype": "text/x-python",
   "name": "python",
   "nbconvert_exporter": "python",
   "pygments_lexer": "ipython3",
   "version": "3.10.9"
  },
  "orig_nbformat": 4
 },
 "nbformat": 4,
 "nbformat_minor": 2
}
